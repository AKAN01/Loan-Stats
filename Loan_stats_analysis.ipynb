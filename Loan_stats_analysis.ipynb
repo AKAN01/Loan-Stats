{
 "cells": [
  {
   "cell_type": "markdown",
   "metadata": {},
   "source": [
    "## Data Analysis using Python Mini-Project\n",
    "### Comprehensive study of data"
   ]
  },
  {
   "cell_type": "markdown",
   "metadata": {},
   "source": [
    "### Data Cleaning and Exploratory Analysis \n",
    "\n",
    "In machine learning, you clean up the data and turn raw data into features from which you can derive the pattern. It's very important to build the intuition. The process of data cleaning and visualization helps with that. In this mini project, I have tried to manually identify the important features in the given dataset. \n",
    "\n",
    "### Dataset: Lending Club data\n",
    "\n",
    "https://www.lendingclub.com/info/download-data.action\n",
    "\n",
    "Years of data to download: 2007-2011\n",
    "\n",
    "The data contains 42538 rows and 145 columns. Not all these columns contain meaningful (or any) information so they need to be cleaned. The loans are categorized into different grades and sub-grades. It would be interesting to see whether they have any impact on the interest rates or not.\n",
    "The process should lead us into default prediction, and finding the columns that directly predict how the loan will behave. These would be our most important features.\n",
    "\n",
    "Here are the broad guidelines I have followed:\n",
    "\n",
    "    View the data \n",
    "    Find the columns that are useful (may be null columns) and the ones that are not \n",
    "    Delete the columns that are not needed\n",
    "    Clean columns values like int_rate and term by removing the string part and convert the column to numeric.\n",
    "    Identify the columns containing useful information, they would be the features. \n",
    "    Visualize the important features\n"
   ]
  },
  {
   "cell_type": "code",
   "execution_count": 1,
   "metadata": {},
   "outputs": [],
   "source": [
    "import pandas as pd\n",
    "import numpy as np"
   ]
  },
  {
   "cell_type": "code",
   "execution_count": 2,
   "metadata": {},
   "outputs": [
    {
     "name": "stderr",
     "output_type": "stream",
     "text": [
      "C:\\Users\\Neelu\\Anaconda3\\lib\\site-packages\\IPython\\core\\interactiveshell.py:2785: DtypeWarning: Columns (0,47) have mixed types. Specify dtype option on import or set low_memory=False.\n",
      "  interactivity=interactivity, compiler=compiler, result=result)\n"
     ]
    },
    {
     "data": {
      "text/html": [
       "<div>\n",
       "<style scoped>\n",
       "    .dataframe tbody tr th:only-of-type {\n",
       "        vertical-align: middle;\n",
       "    }\n",
       "\n",
       "    .dataframe tbody tr th {\n",
       "        vertical-align: top;\n",
       "    }\n",
       "\n",
       "    .dataframe thead th {\n",
       "        text-align: right;\n",
       "    }\n",
       "</style>\n",
       "<table border=\"1\" class=\"dataframe\">\n",
       "  <thead>\n",
       "    <tr style=\"text-align: right;\">\n",
       "      <th></th>\n",
       "      <th>id</th>\n",
       "      <th>member_id</th>\n",
       "      <th>loan_amnt</th>\n",
       "      <th>funded_amnt</th>\n",
       "      <th>funded_amnt_inv</th>\n",
       "      <th>term</th>\n",
       "      <th>int_rate</th>\n",
       "      <th>installment</th>\n",
       "      <th>grade</th>\n",
       "      <th>sub_grade</th>\n",
       "      <th>...</th>\n",
       "      <th>hardship_payoff_balance_amount</th>\n",
       "      <th>hardship_last_payment_amount</th>\n",
       "      <th>disbursement_method</th>\n",
       "      <th>debt_settlement_flag</th>\n",
       "      <th>debt_settlement_flag_date</th>\n",
       "      <th>settlement_status</th>\n",
       "      <th>settlement_date</th>\n",
       "      <th>settlement_amount</th>\n",
       "      <th>settlement_percentage</th>\n",
       "      <th>settlement_term</th>\n",
       "    </tr>\n",
       "  </thead>\n",
       "  <tbody>\n",
       "    <tr>\n",
       "      <th>0</th>\n",
       "      <td>NaN</td>\n",
       "      <td>NaN</td>\n",
       "      <td>5000.0</td>\n",
       "      <td>5000.0</td>\n",
       "      <td>4975.0</td>\n",
       "      <td>36 months</td>\n",
       "      <td>10.65%</td>\n",
       "      <td>162.87</td>\n",
       "      <td>B</td>\n",
       "      <td>B2</td>\n",
       "      <td>...</td>\n",
       "      <td>NaN</td>\n",
       "      <td>NaN</td>\n",
       "      <td>Cash</td>\n",
       "      <td>N</td>\n",
       "      <td>NaN</td>\n",
       "      <td>NaN</td>\n",
       "      <td>NaN</td>\n",
       "      <td>NaN</td>\n",
       "      <td>NaN</td>\n",
       "      <td>NaN</td>\n",
       "    </tr>\n",
       "    <tr>\n",
       "      <th>1</th>\n",
       "      <td>NaN</td>\n",
       "      <td>NaN</td>\n",
       "      <td>2500.0</td>\n",
       "      <td>2500.0</td>\n",
       "      <td>2500.0</td>\n",
       "      <td>60 months</td>\n",
       "      <td>15.27%</td>\n",
       "      <td>59.83</td>\n",
       "      <td>C</td>\n",
       "      <td>C4</td>\n",
       "      <td>...</td>\n",
       "      <td>NaN</td>\n",
       "      <td>NaN</td>\n",
       "      <td>Cash</td>\n",
       "      <td>N</td>\n",
       "      <td>NaN</td>\n",
       "      <td>NaN</td>\n",
       "      <td>NaN</td>\n",
       "      <td>NaN</td>\n",
       "      <td>NaN</td>\n",
       "      <td>NaN</td>\n",
       "    </tr>\n",
       "    <tr>\n",
       "      <th>2</th>\n",
       "      <td>NaN</td>\n",
       "      <td>NaN</td>\n",
       "      <td>2400.0</td>\n",
       "      <td>2400.0</td>\n",
       "      <td>2400.0</td>\n",
       "      <td>36 months</td>\n",
       "      <td>15.96%</td>\n",
       "      <td>84.33</td>\n",
       "      <td>C</td>\n",
       "      <td>C5</td>\n",
       "      <td>...</td>\n",
       "      <td>NaN</td>\n",
       "      <td>NaN</td>\n",
       "      <td>Cash</td>\n",
       "      <td>N</td>\n",
       "      <td>NaN</td>\n",
       "      <td>NaN</td>\n",
       "      <td>NaN</td>\n",
       "      <td>NaN</td>\n",
       "      <td>NaN</td>\n",
       "      <td>NaN</td>\n",
       "    </tr>\n",
       "    <tr>\n",
       "      <th>3</th>\n",
       "      <td>NaN</td>\n",
       "      <td>NaN</td>\n",
       "      <td>10000.0</td>\n",
       "      <td>10000.0</td>\n",
       "      <td>10000.0</td>\n",
       "      <td>36 months</td>\n",
       "      <td>13.49%</td>\n",
       "      <td>339.31</td>\n",
       "      <td>C</td>\n",
       "      <td>C1</td>\n",
       "      <td>...</td>\n",
       "      <td>NaN</td>\n",
       "      <td>NaN</td>\n",
       "      <td>Cash</td>\n",
       "      <td>N</td>\n",
       "      <td>NaN</td>\n",
       "      <td>NaN</td>\n",
       "      <td>NaN</td>\n",
       "      <td>NaN</td>\n",
       "      <td>NaN</td>\n",
       "      <td>NaN</td>\n",
       "    </tr>\n",
       "    <tr>\n",
       "      <th>4</th>\n",
       "      <td>NaN</td>\n",
       "      <td>NaN</td>\n",
       "      <td>3000.0</td>\n",
       "      <td>3000.0</td>\n",
       "      <td>3000.0</td>\n",
       "      <td>60 months</td>\n",
       "      <td>12.69%</td>\n",
       "      <td>67.79</td>\n",
       "      <td>B</td>\n",
       "      <td>B5</td>\n",
       "      <td>...</td>\n",
       "      <td>NaN</td>\n",
       "      <td>NaN</td>\n",
       "      <td>Cash</td>\n",
       "      <td>N</td>\n",
       "      <td>NaN</td>\n",
       "      <td>NaN</td>\n",
       "      <td>NaN</td>\n",
       "      <td>NaN</td>\n",
       "      <td>NaN</td>\n",
       "      <td>NaN</td>\n",
       "    </tr>\n",
       "  </tbody>\n",
       "</table>\n",
       "<p>5 rows × 145 columns</p>\n",
       "</div>"
      ],
      "text/plain": [
       "    id  member_id  loan_amnt  funded_amnt  funded_amnt_inv        term  \\\n",
       "0  NaN        NaN     5000.0       5000.0           4975.0   36 months   \n",
       "1  NaN        NaN     2500.0       2500.0           2500.0   60 months   \n",
       "2  NaN        NaN     2400.0       2400.0           2400.0   36 months   \n",
       "3  NaN        NaN    10000.0      10000.0          10000.0   36 months   \n",
       "4  NaN        NaN     3000.0       3000.0           3000.0   60 months   \n",
       "\n",
       "  int_rate  installment grade sub_grade       ...        \\\n",
       "0   10.65%       162.87     B        B2       ...         \n",
       "1   15.27%        59.83     C        C4       ...         \n",
       "2   15.96%        84.33     C        C5       ...         \n",
       "3   13.49%       339.31     C        C1       ...         \n",
       "4   12.69%        67.79     B        B5       ...         \n",
       "\n",
       "  hardship_payoff_balance_amount hardship_last_payment_amount  \\\n",
       "0                            NaN                          NaN   \n",
       "1                            NaN                          NaN   \n",
       "2                            NaN                          NaN   \n",
       "3                            NaN                          NaN   \n",
       "4                            NaN                          NaN   \n",
       "\n",
       "  disbursement_method  debt_settlement_flag debt_settlement_flag_date  \\\n",
       "0                Cash                     N                       NaN   \n",
       "1                Cash                     N                       NaN   \n",
       "2                Cash                     N                       NaN   \n",
       "3                Cash                     N                       NaN   \n",
       "4                Cash                     N                       NaN   \n",
       "\n",
       "  settlement_status settlement_date settlement_amount  settlement_percentage  \\\n",
       "0               NaN             NaN               NaN                    NaN   \n",
       "1               NaN             NaN               NaN                    NaN   \n",
       "2               NaN             NaN               NaN                    NaN   \n",
       "3               NaN             NaN               NaN                    NaN   \n",
       "4               NaN             NaN               NaN                    NaN   \n",
       "\n",
       "  settlement_term  \n",
       "0             NaN  \n",
       "1             NaN  \n",
       "2             NaN  \n",
       "3             NaN  \n",
       "4             NaN  \n",
       "\n",
       "[5 rows x 145 columns]"
      ]
     },
     "execution_count": 2,
     "metadata": {},
     "output_type": "execute_result"
    }
   ],
   "source": [
    "# Load the dataset\n",
    "loanstats = pd.read_csv('..\\\\Downloads\\\\LoanStats3a.csv',skiprows=[0])\n",
    "loanstats.head()"
   ]
  },
  {
   "cell_type": "code",
   "execution_count": 3,
   "metadata": {},
   "outputs": [
    {
     "data": {
      "text/plain": [
       "(42538, 145)"
      ]
     },
     "execution_count": 3,
     "metadata": {},
     "output_type": "execute_result"
    }
   ],
   "source": [
    "loanstats.shape"
   ]
  },
  {
   "cell_type": "code",
   "execution_count": 4,
   "metadata": {},
   "outputs": [
    {
     "name": "stdout",
     "output_type": "stream",
     "text": [
      "<class 'pandas.core.frame.DataFrame'>\n",
      "RangeIndex: 42538 entries, 0 to 42537\n",
      "Columns: 145 entries, id to settlement_term\n",
      "dtypes: float64(115), object(30)\n",
      "memory usage: 47.1+ MB\n"
     ]
    }
   ],
   "source": [
    "loanstats.info()"
   ]
  },
  {
   "cell_type": "code",
   "execution_count": 5,
   "metadata": {
    "scrolled": true
   },
   "outputs": [
    {
     "data": {
      "text/plain": [
       "id                                            42535\n",
       "member_id                                     42538\n",
       "loan_amnt                                         3\n",
       "funded_amnt                                       3\n",
       "funded_amnt_inv                                   3\n",
       "term                                              3\n",
       "int_rate                                          3\n",
       "installment                                       3\n",
       "grade                                             3\n",
       "sub_grade                                         3\n",
       "emp_title                                      2629\n",
       "emp_length                                     1115\n",
       "home_ownership                                    3\n",
       "annual_inc                                        7\n",
       "verification_status                               3\n",
       "issue_d                                           3\n",
       "loan_status                                       3\n",
       "pymnt_plan                                        3\n",
       "url                                           42538\n",
       "desc                                          13296\n",
       "purpose                                           3\n",
       "title                                            16\n",
       "zip_code                                          3\n",
       "addr_state                                        3\n",
       "dti                                               3\n",
       "delinq_2yrs                                      32\n",
       "earliest_cr_line                                 32\n",
       "inq_last_6mths                                   32\n",
       "mths_since_last_delinq                        26929\n",
       "mths_since_last_record                        38887\n",
       "                                              ...  \n",
       "sec_app_open_acc                              42538\n",
       "sec_app_revol_util                            42538\n",
       "sec_app_open_act_il                           42538\n",
       "sec_app_num_rev_accts                         42538\n",
       "sec_app_chargeoff_within_12_mths              42538\n",
       "sec_app_collections_12_mths_ex_med            42538\n",
       "sec_app_mths_since_last_major_derog           42538\n",
       "hardship_flag                                     3\n",
       "hardship_type                                 42538\n",
       "hardship_reason                               42538\n",
       "hardship_status                               42538\n",
       "deferral_term                                 42538\n",
       "hardship_amount                               42538\n",
       "hardship_start_date                           42538\n",
       "hardship_end_date                             42538\n",
       "payment_plan_start_date                       42538\n",
       "hardship_length                               42538\n",
       "hardship_dpd                                  42538\n",
       "hardship_loan_status                          42538\n",
       "orig_projected_additional_accrued_interest    42538\n",
       "hardship_payoff_balance_amount                42538\n",
       "hardship_last_payment_amount                  42538\n",
       "disbursement_method                               3\n",
       "debt_settlement_flag                              3\n",
       "debt_settlement_flag_date                     42378\n",
       "settlement_status                             42378\n",
       "settlement_date                               42378\n",
       "settlement_amount                             42378\n",
       "settlement_percentage                         42378\n",
       "settlement_term                               42378\n",
       "Length: 145, dtype: int64"
      ]
     },
     "execution_count": 5,
     "metadata": {},
     "output_type": "execute_result"
    }
   ],
   "source": [
    "# Checking for the NaN values present in columns\n",
    "loanstats.isnull().sum()"
   ]
  },
  {
   "cell_type": "code",
   "execution_count": 6,
   "metadata": {},
   "outputs": [],
   "source": [
    "## Dropping the columns having 42538 NaN values, beacuse they won't be of any use.\n",
    "\n",
    "loan = loanstats.drop(['id','member_id','url','sec_app_open_acc','sec_app_revol_util','sec_app_open_act_il','sec_app_num_rev_accts','sec_app_chargeoff_within_12_mths','sec_app_collections_12_mths_ex_med','sec_app_mths_since_last_major_derog','hardship_type','hardship_reason','hardship_status','deferral_term','hardship_amount','hardship_start_date','hardship_end_date','payment_plan_start_date','hardship_length','hardship_dpd','hardship_loan_status','orig_projected_additional_accrued_interest','hardship_payoff_balance_amount','hardship_last_payment_amount','debt_settlement_flag_date','settlement_status','settlement_date','settlement_amount','settlement_percentage','settlement_term'],axis=1)"
   ]
  },
  {
   "cell_type": "code",
   "execution_count": 7,
   "metadata": {},
   "outputs": [
    {
     "data": {
      "text/plain": [
       "loan_amnt                             3\n",
       "funded_amnt                           3\n",
       "funded_amnt_inv                       3\n",
       "term                                  3\n",
       "int_rate                              3\n",
       "installment                           3\n",
       "grade                                 3\n",
       "sub_grade                             3\n",
       "emp_title                          2629\n",
       "emp_length                         1115\n",
       "home_ownership                        3\n",
       "annual_inc                            7\n",
       "verification_status                   3\n",
       "issue_d                               3\n",
       "loan_status                           3\n",
       "pymnt_plan                            3\n",
       "desc                              13296\n",
       "purpose                               3\n",
       "title                                16\n",
       "zip_code                              3\n",
       "addr_state                            3\n",
       "dti                                   3\n",
       "delinq_2yrs                          32\n",
       "earliest_cr_line                     32\n",
       "inq_last_6mths                       32\n",
       "mths_since_last_delinq            26929\n",
       "mths_since_last_record            38887\n",
       "open_acc                             32\n",
       "pub_rec                              32\n",
       "revol_bal                             3\n",
       "                                  ...  \n",
       "mths_since_recent_revol_delinq    42538\n",
       "num_accts_ever_120_pd             42538\n",
       "num_actv_bc_tl                    42538\n",
       "num_actv_rev_tl                   42538\n",
       "num_bc_sats                       42538\n",
       "num_bc_tl                         42538\n",
       "num_il_tl                         42538\n",
       "num_op_rev_tl                     42538\n",
       "num_rev_accts                     42538\n",
       "num_rev_tl_bal_gt_0               42538\n",
       "num_sats                          42538\n",
       "num_tl_120dpd_2m                  42538\n",
       "num_tl_30dpd                      42538\n",
       "num_tl_90g_dpd_24m                42538\n",
       "num_tl_op_past_12m                42538\n",
       "pct_tl_nvr_dlq                    42538\n",
       "percent_bc_gt_75                  42538\n",
       "pub_rec_bankruptcies               1368\n",
       "tax_liens                           108\n",
       "tot_hi_cred_lim                   42538\n",
       "total_bal_ex_mort                 42538\n",
       "total_bc_limit                    42538\n",
       "total_il_high_credit_limit        42538\n",
       "revol_bal_joint                   42538\n",
       "sec_app_earliest_cr_line          42538\n",
       "sec_app_inq_last_6mths            42538\n",
       "sec_app_mort_acc                  42538\n",
       "hardship_flag                         3\n",
       "disbursement_method                   3\n",
       "debt_settlement_flag                  3\n",
       "Length: 115, dtype: int64"
      ]
     },
     "execution_count": 7,
     "metadata": {},
     "output_type": "execute_result"
    }
   ],
   "source": [
    "#Again, few more columns with 42538 are remaining.\n",
    "\n",
    "loan.isnull().sum()"
   ]
  },
  {
   "cell_type": "code",
   "execution_count": 8,
   "metadata": {},
   "outputs": [],
   "source": [
    "# Dropping all the columns having 42538 NaN as their values.\n",
    "\n",
    "loan = loan.drop(loan.columns[loan.isnull().sum() == 42538],axis=1)"
   ]
  },
  {
   "cell_type": "code",
   "execution_count": 9,
   "metadata": {},
   "outputs": [
    {
     "data": {
      "text/plain": [
       "loan_amnt                         3\n",
       "funded_amnt                       3\n",
       "funded_amnt_inv                   3\n",
       "term                              3\n",
       "int_rate                          3\n",
       "installment                       3\n",
       "grade                             3\n",
       "sub_grade                         3\n",
       "emp_title                      2629\n",
       "emp_length                     1115\n",
       "home_ownership                    3\n",
       "annual_inc                        7\n",
       "verification_status               3\n",
       "issue_d                           3\n",
       "loan_status                       3\n",
       "pymnt_plan                        3\n",
       "desc                          13296\n",
       "purpose                           3\n",
       "title                            16\n",
       "zip_code                          3\n",
       "addr_state                        3\n",
       "dti                               3\n",
       "delinq_2yrs                      32\n",
       "earliest_cr_line                 32\n",
       "inq_last_6mths                   32\n",
       "mths_since_last_delinq        26929\n",
       "mths_since_last_record        38887\n",
       "open_acc                         32\n",
       "pub_rec                          32\n",
       "revol_bal                         3\n",
       "revol_util                       93\n",
       "total_acc                        32\n",
       "initial_list_status               3\n",
       "out_prncp                         3\n",
       "out_prncp_inv                     3\n",
       "total_pymnt                       3\n",
       "total_pymnt_inv                   3\n",
       "total_rec_prncp                   3\n",
       "total_rec_int                     3\n",
       "total_rec_late_fee                3\n",
       "recoveries                        3\n",
       "collection_recovery_fee           3\n",
       "last_pymnt_d                     86\n",
       "last_pymnt_amnt                   3\n",
       "next_pymnt_d                  39789\n",
       "last_credit_pull_d                7\n",
       "collections_12_mths_ex_med      148\n",
       "policy_code                       3\n",
       "application_type                  3\n",
       "acc_now_delinq                   32\n",
       "chargeoff_within_12_mths        148\n",
       "delinq_amnt                      32\n",
       "pub_rec_bankruptcies           1368\n",
       "tax_liens                       108\n",
       "hardship_flag                     3\n",
       "disbursement_method               3\n",
       "debt_settlement_flag              3\n",
       "dtype: int64"
      ]
     },
     "execution_count": 9,
     "metadata": {},
     "output_type": "execute_result"
    }
   ],
   "source": [
    "# That leaves us with very few columns\n",
    "\n",
    "loan.isnull().sum()"
   ]
  },
  {
   "cell_type": "markdown",
   "metadata": {},
   "source": [
    "# Features Studying "
   ]
  },
  {
   "cell_type": "markdown",
   "metadata": {},
   "source": [
    "#### Now we will take each column one by one and study them to make sense out of it. If require, we will clean the values for use. Later on we will check if they are useful for building a model.\n",
    "#### We will see whether they have any impact on the interest rates or not."
   ]
  },
  {
   "cell_type": "code",
   "execution_count": 10,
   "metadata": {},
   "outputs": [
    {
     "data": {
      "text/html": [
       "<div>\n",
       "<style scoped>\n",
       "    .dataframe tbody tr th:only-of-type {\n",
       "        vertical-align: middle;\n",
       "    }\n",
       "\n",
       "    .dataframe tbody tr th {\n",
       "        vertical-align: top;\n",
       "    }\n",
       "\n",
       "    .dataframe thead th {\n",
       "        text-align: right;\n",
       "    }\n",
       "</style>\n",
       "<table border=\"1\" class=\"dataframe\">\n",
       "  <thead>\n",
       "    <tr style=\"text-align: right;\">\n",
       "      <th></th>\n",
       "      <th>loan_amnt</th>\n",
       "      <th>funded_amnt</th>\n",
       "      <th>funded_amnt_inv</th>\n",
       "      <th>term</th>\n",
       "      <th>int_rate</th>\n",
       "      <th>installment</th>\n",
       "      <th>grade</th>\n",
       "      <th>sub_grade</th>\n",
       "      <th>emp_title</th>\n",
       "      <th>emp_length</th>\n",
       "      <th>...</th>\n",
       "      <th>policy_code</th>\n",
       "      <th>application_type</th>\n",
       "      <th>acc_now_delinq</th>\n",
       "      <th>chargeoff_within_12_mths</th>\n",
       "      <th>delinq_amnt</th>\n",
       "      <th>pub_rec_bankruptcies</th>\n",
       "      <th>tax_liens</th>\n",
       "      <th>hardship_flag</th>\n",
       "      <th>disbursement_method</th>\n",
       "      <th>debt_settlement_flag</th>\n",
       "    </tr>\n",
       "  </thead>\n",
       "  <tbody>\n",
       "    <tr>\n",
       "      <th>39786</th>\n",
       "      <td>NaN</td>\n",
       "      <td>NaN</td>\n",
       "      <td>NaN</td>\n",
       "      <td>NaN</td>\n",
       "      <td>NaN</td>\n",
       "      <td>NaN</td>\n",
       "      <td>NaN</td>\n",
       "      <td>NaN</td>\n",
       "      <td>NaN</td>\n",
       "      <td>NaN</td>\n",
       "      <td>...</td>\n",
       "      <td>NaN</td>\n",
       "      <td>NaN</td>\n",
       "      <td>NaN</td>\n",
       "      <td>NaN</td>\n",
       "      <td>NaN</td>\n",
       "      <td>NaN</td>\n",
       "      <td>NaN</td>\n",
       "      <td>NaN</td>\n",
       "      <td>NaN</td>\n",
       "      <td>NaN</td>\n",
       "    </tr>\n",
       "    <tr>\n",
       "      <th>42536</th>\n",
       "      <td>NaN</td>\n",
       "      <td>NaN</td>\n",
       "      <td>NaN</td>\n",
       "      <td>NaN</td>\n",
       "      <td>NaN</td>\n",
       "      <td>NaN</td>\n",
       "      <td>NaN</td>\n",
       "      <td>NaN</td>\n",
       "      <td>NaN</td>\n",
       "      <td>NaN</td>\n",
       "      <td>...</td>\n",
       "      <td>NaN</td>\n",
       "      <td>NaN</td>\n",
       "      <td>NaN</td>\n",
       "      <td>NaN</td>\n",
       "      <td>NaN</td>\n",
       "      <td>NaN</td>\n",
       "      <td>NaN</td>\n",
       "      <td>NaN</td>\n",
       "      <td>NaN</td>\n",
       "      <td>NaN</td>\n",
       "    </tr>\n",
       "    <tr>\n",
       "      <th>42537</th>\n",
       "      <td>NaN</td>\n",
       "      <td>NaN</td>\n",
       "      <td>NaN</td>\n",
       "      <td>NaN</td>\n",
       "      <td>NaN</td>\n",
       "      <td>NaN</td>\n",
       "      <td>NaN</td>\n",
       "      <td>NaN</td>\n",
       "      <td>NaN</td>\n",
       "      <td>NaN</td>\n",
       "      <td>...</td>\n",
       "      <td>NaN</td>\n",
       "      <td>NaN</td>\n",
       "      <td>NaN</td>\n",
       "      <td>NaN</td>\n",
       "      <td>NaN</td>\n",
       "      <td>NaN</td>\n",
       "      <td>NaN</td>\n",
       "      <td>NaN</td>\n",
       "      <td>NaN</td>\n",
       "      <td>NaN</td>\n",
       "    </tr>\n",
       "  </tbody>\n",
       "</table>\n",
       "<p>3 rows × 57 columns</p>\n",
       "</div>"
      ],
      "text/plain": [
       "       loan_amnt  funded_amnt  funded_amnt_inv term int_rate  installment  \\\n",
       "39786        NaN          NaN              NaN  NaN      NaN          NaN   \n",
       "42536        NaN          NaN              NaN  NaN      NaN          NaN   \n",
       "42537        NaN          NaN              NaN  NaN      NaN          NaN   \n",
       "\n",
       "      grade sub_grade emp_title emp_length         ...          policy_code  \\\n",
       "39786   NaN       NaN       NaN        NaN         ...                  NaN   \n",
       "42536   NaN       NaN       NaN        NaN         ...                  NaN   \n",
       "42537   NaN       NaN       NaN        NaN         ...                  NaN   \n",
       "\n",
       "       application_type acc_now_delinq chargeoff_within_12_mths delinq_amnt  \\\n",
       "39786               NaN            NaN                      NaN         NaN   \n",
       "42536               NaN            NaN                      NaN         NaN   \n",
       "42537               NaN            NaN                      NaN         NaN   \n",
       "\n",
       "      pub_rec_bankruptcies tax_liens hardship_flag disbursement_method  \\\n",
       "39786                  NaN       NaN           NaN                 NaN   \n",
       "42536                  NaN       NaN           NaN                 NaN   \n",
       "42537                  NaN       NaN           NaN                 NaN   \n",
       "\n",
       "      debt_settlement_flag  \n",
       "39786                  NaN  \n",
       "42536                  NaN  \n",
       "42537                  NaN  \n",
       "\n",
       "[3 rows x 57 columns]"
      ]
     },
     "execution_count": 10,
     "metadata": {},
     "output_type": "execute_result"
    }
   ],
   "source": [
    "# By picking up the 1st feature loan_amnt and checking rows with NaN values, we can see that they contain NaN for all columns. \n",
    "\n",
    "loan[loan['loan_amnt'].isnull()]"
   ]
  },
  {
   "cell_type": "code",
   "execution_count": 11,
   "metadata": {},
   "outputs": [],
   "source": [
    "# So it's better to drop these rows\n",
    "\n",
    "loan = loan.drop([39786,42536,42537],axis=0)"
   ]
  },
  {
   "cell_type": "code",
   "execution_count": 12,
   "metadata": {},
   "outputs": [
    {
     "data": {
      "text/plain": [
       "loan_amnt                         0\n",
       "funded_amnt                       0\n",
       "funded_amnt_inv                   0\n",
       "term                              0\n",
       "int_rate                          0\n",
       "installment                       0\n",
       "grade                             0\n",
       "sub_grade                         0\n",
       "emp_title                      2626\n",
       "emp_length                     1112\n",
       "home_ownership                    0\n",
       "annual_inc                        4\n",
       "verification_status               0\n",
       "issue_d                           0\n",
       "loan_status                       0\n",
       "pymnt_plan                        0\n",
       "desc                          13293\n",
       "purpose                           0\n",
       "title                            13\n",
       "zip_code                          0\n",
       "addr_state                        0\n",
       "dti                               0\n",
       "delinq_2yrs                      29\n",
       "earliest_cr_line                 29\n",
       "inq_last_6mths                   29\n",
       "mths_since_last_delinq        26926\n",
       "mths_since_last_record        38884\n",
       "open_acc                         29\n",
       "pub_rec                          29\n",
       "revol_bal                         0\n",
       "revol_util                       90\n",
       "total_acc                        29\n",
       "initial_list_status               0\n",
       "out_prncp                         0\n",
       "out_prncp_inv                     0\n",
       "total_pymnt                       0\n",
       "total_pymnt_inv                   0\n",
       "total_rec_prncp                   0\n",
       "total_rec_int                     0\n",
       "total_rec_late_fee                0\n",
       "recoveries                        0\n",
       "collection_recovery_fee           0\n",
       "last_pymnt_d                     83\n",
       "last_pymnt_amnt                   0\n",
       "next_pymnt_d                  39786\n",
       "last_credit_pull_d                4\n",
       "collections_12_mths_ex_med      145\n",
       "policy_code                       0\n",
       "application_type                  0\n",
       "acc_now_delinq                   29\n",
       "chargeoff_within_12_mths        145\n",
       "delinq_amnt                      29\n",
       "pub_rec_bankruptcies           1365\n",
       "tax_liens                       105\n",
       "hardship_flag                     0\n",
       "disbursement_method               0\n",
       "debt_settlement_flag              0\n",
       "dtype: int64"
      ]
     },
     "execution_count": 12,
     "metadata": {},
     "output_type": "execute_result"
    }
   ],
   "source": [
    "loan.isnull().sum()"
   ]
  },
  {
   "cell_type": "code",
   "execution_count": 13,
   "metadata": {},
   "outputs": [
    {
     "data": {
      "text/plain": [
       "0     36 months\n",
       "1     60 months\n",
       "2     36 months\n",
       "3     36 months\n",
       "4     60 months\n",
       "Name: term, dtype: object"
      ]
     },
     "execution_count": 13,
     "metadata": {},
     "output_type": "execute_result"
    }
   ],
   "source": [
    "# Taking our next feature 'term', all the values are in months.\n",
    "# So we can convert them into integer values.\n",
    "\n",
    "loan['term'].head()"
   ]
  },
  {
   "cell_type": "code",
   "execution_count": 14,
   "metadata": {},
   "outputs": [],
   "source": [
    "# extracting only numeric values.\n",
    "\n",
    "loan['term'] = loan['term'].str.extract('(\\d+)')"
   ]
  },
  {
   "cell_type": "code",
   "execution_count": 15,
   "metadata": {},
   "outputs": [
    {
     "data": {
      "text/plain": [
       "0    36\n",
       "1    60\n",
       "2    36\n",
       "3    36\n",
       "4    60\n",
       "Name: term, dtype: int8"
      ]
     },
     "execution_count": 15,
     "metadata": {},
     "output_type": "execute_result"
    }
   ],
   "source": [
    "loan['term'] = pd.to_numeric(loan['term'], downcast='integer')\n",
    "loan['term'].head()"
   ]
  },
  {
   "cell_type": "code",
   "execution_count": 16,
   "metadata": {},
   "outputs": [
    {
     "data": {
      "text/plain": [
       "0     10.65%\n",
       "1     15.27%\n",
       "2     15.96%\n",
       "3     13.49%\n",
       "4     12.69%\n",
       "Name: int_rate, dtype: object"
      ]
     },
     "execution_count": 16,
     "metadata": {},
     "output_type": "execute_result"
    }
   ],
   "source": [
    "# 'int_rate' is also present in object type. For calculations, converting it to float by extracting only numeric part of it.\n",
    "\n",
    "loan['int_rate'].head()"
   ]
  },
  {
   "cell_type": "code",
   "execution_count": 17,
   "metadata": {},
   "outputs": [],
   "source": [
    "loan['int_rate'] = loan['int_rate'].str.extract('(\\d+.\\d+)')"
   ]
  },
  {
   "cell_type": "code",
   "execution_count": 18,
   "metadata": {},
   "outputs": [
    {
     "data": {
      "text/plain": [
       "0    10.65\n",
       "1    15.27\n",
       "2    15.96\n",
       "3    13.49\n",
       "4    12.69\n",
       "Name: int_rate, dtype: float32"
      ]
     },
     "execution_count": 18,
     "metadata": {},
     "output_type": "execute_result"
    }
   ],
   "source": [
    "loan['int_rate'] = pd.to_numeric(loan['int_rate'], downcast='float')\n",
    "loan['int_rate'].head() # Now it can be usefull"
   ]
  },
  {
   "cell_type": "code",
   "execution_count": 19,
   "metadata": {},
   "outputs": [],
   "source": [
    "# Let's import the matplotlib and seaborn library for visualization. \n",
    "\n",
    "import matplotlib.pyplot as plt\n",
    "%matplotlib inline\n",
    "import seaborn as sns"
   ]
  },
  {
   "cell_type": "code",
   "execution_count": 20,
   "metadata": {},
   "outputs": [
    {
     "data": {
      "text/plain": [
       "B    12389\n",
       "A    10183\n",
       "C     8740\n",
       "D     6016\n",
       "E     3394\n",
       "F     1301\n",
       "G      512\n",
       "Name: grade, dtype: int64"
      ]
     },
     "execution_count": 20,
     "metadata": {},
     "output_type": "execute_result"
    }
   ],
   "source": [
    "loan['grade'].value_counts()"
   ]
  },
  {
   "cell_type": "code",
   "execution_count": 21,
   "metadata": {},
   "outputs": [
    {
     "data": {
      "text/plain": [
       "<matplotlib.axes._subplots.AxesSubplot at 0xc7c4a0f080>"
      ]
     },
     "execution_count": 21,
     "metadata": {},
     "output_type": "execute_result"
    },
    {
     "data": {
      "image/png": "[encoded data removed]",
      "text/plain": [
       "<Figure size 432x288 with 1 Axes>"
      ]
     },
     "metadata": {},
     "output_type": "display_data"
    }
   ],
   "source": [
    "# By plot, we can see directly that grade G have the more interest rate than any other grade and A have minimum. And most of the\n",
    "# accounts are in grade B category having interest rate between 10% to 12%.\n",
    "\n",
    "sns.barplot(x='grade',y='int_rate',data=loan)"
   ]
  },
  {
   "cell_type": "code",
   "execution_count": 22,
   "metadata": {},
   "outputs": [
    {
     "data": {
      "text/plain": [
       "<matplotlib.axes._subplots.AxesSubplot at 0xc7b94ece80>"
      ]
     },
     "execution_count": 22,
     "metadata": {},
     "output_type": "execute_result"
    },
    {
     "data": {
      "image/png": "[encoded data removed]",
      "text/plain": [
       "<Figure size 864x576 with 1 Axes>"
      ]
     },
     "metadata": {},
     "output_type": "display_data"
    }
   ],
   "source": [
    "# Again, if we sub-categorise it, we can see interest rate difference.\n",
    "\n",
    "plt.figure(figsize=(12,8))\n",
    "sns.barplot(x='sub_grade',y='int_rate',data=loan)"
   ]
  },
  {
   "cell_type": "code",
   "execution_count": 23,
   "metadata": {},
   "outputs": [
    {
     "data": {
      "text/plain": [
       "sub_grade\n",
       "G3    20.605824\n",
       "G4    20.566971\n",
       "G2    20.423178\n",
       "G1    20.390427\n",
       "G5    20.310698\n",
       "F5    20.099741\n",
       "F4    19.829052\n",
       "F3    19.465382\n",
       "F2    18.956753\n",
       "F1    18.756020\n",
       "Name: int_rate, dtype: float32"
      ]
     },
     "execution_count": 23,
     "metadata": {},
     "output_type": "execute_result"
    }
   ],
   "source": [
    "# Here are the top 10 sub-grade categories order, targeting average high interest rates.\n",
    "\n",
    "loan.groupby('sub_grade').int_rate.mean().nlargest(10)"
   ]
  },
  {
   "cell_type": "code",
   "execution_count": 24,
   "metadata": {},
   "outputs": [
    {
     "data": {
      "text/plain": [
       "RENT        20181\n",
       "MORTGAGE    18959\n",
       "OWN          3251\n",
       "OTHER         136\n",
       "NONE            8\n",
       "Name: home_ownership, dtype: int64"
      ]
     },
     "execution_count": 24,
     "metadata": {},
     "output_type": "execute_result"
    }
   ],
   "source": [
    "# Most of the accounts holder lives in rented place. Very few own a home.\n",
    "\n",
    "loan['home_ownership'].value_counts()"
   ]
  },
  {
   "cell_type": "code",
   "execution_count": 25,
   "metadata": {},
   "outputs": [
    {
     "data": {
      "text/plain": [
       "<matplotlib.axes._subplots.AxesSubplot at 0xc7c4e14518>"
      ]
     },
     "execution_count": 25,
     "metadata": {},
     "output_type": "execute_result"
    },
    {
     "data": {
      "image/png": "[encoded data removed]",
      "text/plain": [
       "<Figure size 432x288 with 1 Axes>"
      ]
     },
     "metadata": {},
     "output_type": "display_data"
    }
   ],
   "source": [
    "sns.barplot(x='home_ownership',y='int_rate',data = loan)"
   ]
  },
  {
   "cell_type": "code",
   "execution_count": 26,
   "metadata": {},
   "outputs": [
    {
     "data": {
      "text/plain": [
       "4"
      ]
     },
     "execution_count": 26,
     "metadata": {},
     "output_type": "execute_result"
    }
   ],
   "source": [
    "# In 'annual_inc' coulumn, 4 rows have NaN.\n",
    "\n",
    "loan['annual_inc'].isnull().sum()"
   ]
  },
  {
   "cell_type": "code",
   "execution_count": 27,
   "metadata": {},
   "outputs": [
    {
     "data": {
      "text/plain": [
       "69136.55642025822"
      ]
     },
     "execution_count": 27,
     "metadata": {},
     "output_type": "execute_result"
    }
   ],
   "source": [
    "# 4 are vey few compared to 42535. We can fill these with the average value of this column.\n",
    "\n",
    "loan['annual_inc'].mean()"
   ]
  },
  {
   "cell_type": "code",
   "execution_count": 28,
   "metadata": {},
   "outputs": [],
   "source": [
    "loan['annual_inc'] = loan['annual_inc'].fillna(loan['annual_inc'].mean())"
   ]
  },
  {
   "cell_type": "code",
   "execution_count": 29,
   "metadata": {},
   "outputs": [
    {
     "data": {
      "text/plain": [
       "Not Verified       18758\n",
       "Verified           13471\n",
       "Source Verified    10306\n",
       "Name: verification_status, dtype: int64"
      ]
     },
     "execution_count": 29,
     "metadata": {},
     "output_type": "execute_result"
    }
   ],
   "source": [
    "# By checking the verification status, we can see not most of the counts are verified.\n",
    "\n",
    "loan['verification_status'].value_counts()"
   ]
  },
  {
   "cell_type": "code",
   "execution_count": 30,
   "metadata": {},
   "outputs": [
    {
     "data": {
      "text/plain": [
       "<matplotlib.axes._subplots.AxesSubplot at 0xc7c4c636d8>"
      ]
     },
     "execution_count": 30,
     "metadata": {},
     "output_type": "execute_result"
    },
    {
     "data": {
      "image/png": "[encoded data removed]",
      "text/plain": [
       "<Figure size 432x288 with 1 Axes>"
      ]
     },
     "metadata": {},
     "output_type": "display_data"
    }
   ],
   "source": [
    "sns.barplot(x='verification_status',y='int_rate',data=loan)"
   ]
  },
  {
   "cell_type": "code",
   "execution_count": 31,
   "metadata": {},
   "outputs": [
    {
     "data": {
      "text/plain": [
       "0    1\n",
       "1    2\n",
       "2    3\n",
       "3    2\n",
       "4    2\n",
       "Name: verification_status, dtype: int64"
      ]
     },
     "execution_count": 31,
     "metadata": {},
     "output_type": "execute_result"
    }
   ],
   "source": [
    "# For ease, we can categories the status with numbers.\n",
    "\n",
    "ver_dict = {'Verified':1,'Source Verified':2,'Not Verified':3}\n",
    "\n",
    "loan['verification_status'] = loan['verification_status'].map(ver_dict)\n",
    "loan['verification_status'].head()"
   ]
  },
  {
   "cell_type": "code",
   "execution_count": 32,
   "metadata": {},
   "outputs": [
    {
     "data": {
      "text/plain": [
       "n    42535\n",
       "Name: pymnt_plan, dtype: int64"
      ]
     },
     "execution_count": 32,
     "metadata": {},
     "output_type": "execute_result"
    }
   ],
   "source": [
    "# All the values in column 'pymnt_plan' have the same velue 'n'. This doesn't infer anything or can help in any analysis. So I\n",
    "# will just drop this field.\n",
    "\n",
    "loan['pymnt_plan'].value_counts()"
   ]
  },
  {
   "cell_type": "code",
   "execution_count": 33,
   "metadata": {},
   "outputs": [],
   "source": [
    "loan = loan.drop('pymnt_plan',axis=1)"
   ]
  },
  {
   "cell_type": "code",
   "execution_count": 34,
   "metadata": {},
   "outputs": [
    {
     "data": {
      "text/plain": [
       "0       credit_card\n",
       "1               car\n",
       "2    small_business\n",
       "3             other\n",
       "4             other\n",
       "Name: purpose, dtype: object"
      ]
     },
     "execution_count": 34,
     "metadata": {},
     "output_type": "execute_result"
    }
   ],
   "source": [
    "# Here are the purpose listed for every loan.\n",
    "\n",
    "loan['purpose'].head()"
   ]
  },
  {
   "cell_type": "code",
   "execution_count": 35,
   "metadata": {},
   "outputs": [
    {
     "data": {
      "text/plain": [
       "debt_consolidation    19776\n",
       "credit_card            5477\n",
       "other                  4425\n",
       "home_improvement       3199\n",
       "major_purchase         2311\n",
       "small_business         1992\n",
       "car                    1615\n",
       "wedding                1004\n",
       "medical                 753\n",
       "moving                  629\n",
       "house                   426\n",
       "educational             422\n",
       "vacation                400\n",
       "renewable_energy        106\n",
       "Name: purpose, dtype: int64"
      ]
     },
     "execution_count": 35,
     "metadata": {},
     "output_type": "execute_result"
    }
   ],
   "source": [
    "# And we can see that most of the loans are for debt consolidation and credit cards purpose.\n",
    "\n",
    "loan['purpose'].value_counts()"
   ]
  },
  {
   "cell_type": "code",
   "execution_count": 36,
   "metadata": {},
   "outputs": [
    {
     "data": {
      "image/png": "[encoded data removed]",
      "text/plain": [
       "<Figure size 864x576 with 1 Axes>"
      ]
     },
     "metadata": {},
     "output_type": "display_data"
    }
   ],
   "source": [
    "# Small business have the higest average interest rates and car loan have low, we can see in plot.\n",
    "\n",
    "plt.figure(figsize=(12,8))\n",
    "sns.barplot(x='purpose',y='int_rate',data=loan)\n",
    "plt.xticks(rotation=20);"
   ]
  },
  {
   "cell_type": "code",
   "execution_count": 37,
   "metadata": {},
   "outputs": [
    {
     "data": {
      "text/plain": [
       "0                Computer\n",
       "1                    bike\n",
       "2    real estate business\n",
       "3                personel\n",
       "4                Personal\n",
       "Name: title, dtype: object"
      ]
     },
     "execution_count": 37,
     "metadata": {},
     "output_type": "execute_result"
    }
   ],
   "source": [
    "# This is similar to the feature 'purpose'. 'title' has an elobrate version of the purpose. So i am just droping it. We can use \n",
    "# 'purpose' for that.\n",
    "\n",
    "loan['title'].head()"
   ]
  },
  {
   "cell_type": "code",
   "execution_count": 38,
   "metadata": {},
   "outputs": [],
   "source": [
    "loan = loan.drop('title',axis=1)"
   ]
  },
  {
   "cell_type": "code",
   "execution_count": 39,
   "metadata": {},
   "outputs": [
    {
     "data": {
      "text/html": [
       "<div>\n",
       "<style scoped>\n",
       "    .dataframe tbody tr th:only-of-type {\n",
       "        vertical-align: middle;\n",
       "    }\n",
       "\n",
       "    .dataframe tbody tr th {\n",
       "        vertical-align: top;\n",
       "    }\n",
       "\n",
       "    .dataframe thead th {\n",
       "        text-align: right;\n",
       "    }\n",
       "</style>\n",
       "<table border=\"1\" class=\"dataframe\">\n",
       "  <thead>\n",
       "    <tr style=\"text-align: right;\">\n",
       "      <th></th>\n",
       "      <th>zip_code</th>\n",
       "      <th>addr_state</th>\n",
       "    </tr>\n",
       "  </thead>\n",
       "  <tbody>\n",
       "    <tr>\n",
       "      <th>0</th>\n",
       "      <td>860xx</td>\n",
       "      <td>AZ</td>\n",
       "    </tr>\n",
       "    <tr>\n",
       "      <th>1</th>\n",
       "      <td>309xx</td>\n",
       "      <td>GA</td>\n",
       "    </tr>\n",
       "    <tr>\n",
       "      <th>2</th>\n",
       "      <td>606xx</td>\n",
       "      <td>IL</td>\n",
       "    </tr>\n",
       "    <tr>\n",
       "      <th>3</th>\n",
       "      <td>917xx</td>\n",
       "      <td>CA</td>\n",
       "    </tr>\n",
       "    <tr>\n",
       "      <th>4</th>\n",
       "      <td>972xx</td>\n",
       "      <td>OR</td>\n",
       "    </tr>\n",
       "  </tbody>\n",
       "</table>\n",
       "</div>"
      ],
      "text/plain": [
       "  zip_code addr_state\n",
       "0    860xx         AZ\n",
       "1    309xx         GA\n",
       "2    606xx         IL\n",
       "3    917xx         CA\n",
       "4    972xx         OR"
      ]
     },
     "execution_count": 39,
     "metadata": {},
     "output_type": "execute_result"
    }
   ],
   "source": [
    "# Here are the zip code and the state code listed.\n",
    "\n",
    "loan[['zip_code','addr_state']].head()"
   ]
  },
  {
   "cell_type": "code",
   "execution_count": 40,
   "metadata": {},
   "outputs": [
    {
     "data": {
      "text/plain": [
       "<matplotlib.axes._subplots.AxesSubplot at 0xc7c4cc6438>"
      ]
     },
     "execution_count": 40,
     "metadata": {},
     "output_type": "execute_result"
    },
    {
     "data": {
      "image/png": "[encoded data removed]",
      "text/plain": [
       "<Figure size 864x576 with 1 Axes>"
      ]
     },
     "metadata": {},
     "output_type": "display_data"
    }
   ],
   "source": [
    "# We can see that large number of loan accounts are from California(CA) than any other state of US. So the company can target \n",
    "# CA for more loans.  \n",
    "\n",
    "plt.figure(figsize=(12,8))\n",
    "sns.countplot(x='addr_state', data=loan)"
   ]
  },
  {
   "cell_type": "code",
   "execution_count": 41,
   "metadata": {},
   "outputs": [
    {
     "data": {
      "text/plain": [
       "CA    7429\n",
       "NY    4065\n",
       "FL    3104\n",
       "TX    2915\n",
       "NJ    1988\n",
       "IL    1672\n",
       "PA    1651\n",
       "GA    1503\n",
       "VA    1487\n",
       "MA    1438\n",
       "Name: addr_state, dtype: int64"
      ]
     },
     "execution_count": 41,
     "metadata": {},
     "output_type": "execute_result"
    }
   ],
   "source": [
    "# Here are the top 10 state list which have loan accounts.\n",
    "\n",
    "loan['addr_state'].value_counts().nlargest(10)"
   ]
  },
  {
   "cell_type": "code",
   "execution_count": 42,
   "metadata": {},
   "outputs": [],
   "source": [
    "# As the State information would give an idea about out maximum customers then we won't be needing zip code for every city.\n",
    "\n",
    "loan = loan.drop('zip_code',axis=1)"
   ]
  },
  {
   "cell_type": "code",
   "execution_count": 43,
   "metadata": {},
   "outputs": [
    {
     "data": {
      "text/plain": [
       "0.0     37771\n",
       "1.0      3595\n",
       "2.0       771\n",
       "3.0       244\n",
       "4.0        72\n",
       "5.0        27\n",
       "6.0        13\n",
       "7.0         6\n",
       "8.0         3\n",
       "11.0        2\n",
       "13.0        1\n",
       "9.0         1\n",
       "Name: delinq_2yrs, dtype: int64"
      ]
     },
     "execution_count": 43,
     "metadata": {},
     "output_type": "execute_result"
    }
   ],
   "source": [
    "loan['delinq_2yrs'].value_counts()"
   ]
  },
  {
   "cell_type": "code",
   "execution_count": 44,
   "metadata": {},
   "outputs": [],
   "source": [
    "loan['delinq_2yrs'] = loan['delinq_2yrs'].fillna(0.0)"
   ]
  },
  {
   "cell_type": "code",
   "execution_count": 45,
   "metadata": {},
   "outputs": [],
   "source": [
    "loan['inq_last_6mths'] = loan['inq_last_6mths'].fillna(0.0)"
   ]
  },
  {
   "cell_type": "code",
   "execution_count": 46,
   "metadata": {},
   "outputs": [
    {
     "data": {
      "text/plain": [
       "0.0    40130\n",
       "1.0     2298\n",
       "2.0       64\n",
       "3.0       11\n",
       "4.0        2\n",
       "5.0        1\n",
       "Name: pub_rec, dtype: int64"
      ]
     },
     "execution_count": 46,
     "metadata": {},
     "output_type": "execute_result"
    }
   ],
   "source": [
    "loan['pub_rec'].value_counts()"
   ]
  },
  {
   "cell_type": "code",
   "execution_count": 47,
   "metadata": {},
   "outputs": [],
   "source": [
    "loan['pub_rec'] = loan['pub_rec'].fillna(0.0)"
   ]
  },
  {
   "cell_type": "code",
   "execution_count": 48,
   "metadata": {},
   "outputs": [
    {
     "data": {
      "text/plain": [
       "0    83.7%\n",
       "1     9.4%\n",
       "2    98.5%\n",
       "3      21%\n",
       "4    53.9%\n",
       "Name: revol_util, dtype: object"
      ]
     },
     "execution_count": 48,
     "metadata": {},
     "output_type": "execute_result"
    }
   ],
   "source": [
    "# 'revol_util' is an object type.\n",
    "\n",
    "loan['revol_util'].head()"
   ]
  },
  {
   "cell_type": "code",
   "execution_count": 49,
   "metadata": {},
   "outputs": [
    {
     "data": {
      "text/plain": [
       "0    83.7\n",
       "1     9.4\n",
       "2    98.5\n",
       "3    21.0\n",
       "4    53.9\n",
       "Name: revol_util, dtype: float64"
      ]
     },
     "execution_count": 49,
     "metadata": {},
     "output_type": "execute_result"
    }
   ],
   "source": [
    "# Converting 'revol_util' to float type so the values can be use in making predictions.\n",
    "\n",
    "loan['revol_util'] = loan['revol_util'].str.extract('(\\d+.?\\d+)')\n",
    "loan['revol_util'] = pd.to_numeric(loan['revol_util'])\n",
    "loan['revol_util'].head()"
   ]
  },
  {
   "cell_type": "code",
   "execution_count": 50,
   "metadata": {},
   "outputs": [],
   "source": [
    "loan['revol_util'] = loan['revol_util'].fillna(loan['revol_util'].mean())"
   ]
  },
  {
   "cell_type": "code",
   "execution_count": 51,
   "metadata": {},
   "outputs": [],
   "source": [
    "#import datetime as dt\n",
    "#print(loan['issue_d'].head())\n",
    "#pd.to_datetime(loan['issue_d'].head())"
   ]
  },
  {
   "cell_type": "markdown",
   "metadata": {},
   "source": [
    "   "
   ]
  },
  {
   "cell_type": "markdown",
   "metadata": {},
   "source": [
    "\n",
    "\n",
    "\n",
    "Here onwards, we will be dropping all the columns which makes no sense or are not useful.\n"
   ]
  },
  {
   "cell_type": "code",
   "execution_count": 52,
   "metadata": {
    "scrolled": true
   },
   "outputs": [
    {
     "data": {
      "text/plain": [
       "0    f\n",
       "1    f\n",
       "2    f\n",
       "3    f\n",
       "4    f\n",
       "Name: initial_list_status, dtype: object"
      ]
     },
     "execution_count": 52,
     "metadata": {},
     "output_type": "execute_result"
    }
   ],
   "source": [
    "loan['initial_list_status'].head()"
   ]
  },
  {
   "cell_type": "code",
   "execution_count": 53,
   "metadata": {},
   "outputs": [
    {
     "data": {
      "text/plain": [
       "f    42535\n",
       "Name: initial_list_status, dtype: int64"
      ]
     },
     "execution_count": 53,
     "metadata": {},
     "output_type": "execute_result"
    }
   ],
   "source": [
    "loan['initial_list_status'].value_counts()"
   ]
  },
  {
   "cell_type": "code",
   "execution_count": 54,
   "metadata": {},
   "outputs": [],
   "source": [
    "loan = loan.drop('initial_list_status',axis=1)"
   ]
  },
  {
   "cell_type": "code",
   "execution_count": 55,
   "metadata": {},
   "outputs": [
    {
     "data": {
      "text/plain": [
       "0.0    42535\n",
       "Name: out_prncp, dtype: int64"
      ]
     },
     "execution_count": 55,
     "metadata": {},
     "output_type": "execute_result"
    }
   ],
   "source": [
    "loan['out_prncp'].value_counts()"
   ]
  },
  {
   "cell_type": "code",
   "execution_count": 56,
   "metadata": {},
   "outputs": [],
   "source": [
    "loan = loan.drop('out_prncp',axis=1)"
   ]
  },
  {
   "cell_type": "code",
   "execution_count": 57,
   "metadata": {},
   "outputs": [
    {
     "data": {
      "text/plain": [
       "0.0    42535\n",
       "Name: out_prncp_inv, dtype: int64"
      ]
     },
     "execution_count": 57,
     "metadata": {},
     "output_type": "execute_result"
    }
   ],
   "source": [
    "loan['out_prncp_inv'].value_counts()"
   ]
  },
  {
   "cell_type": "code",
   "execution_count": 58,
   "metadata": {},
   "outputs": [],
   "source": [
    "loan = loan.drop('out_prncp_inv',axis=1)"
   ]
  },
  {
   "cell_type": "code",
   "execution_count": 59,
   "metadata": {},
   "outputs": [
    {
     "data": {
      "text/plain": [
       "0.0    42390\n",
       "Name: collections_12_mths_ex_med, dtype: int64"
      ]
     },
     "execution_count": 59,
     "metadata": {},
     "output_type": "execute_result"
    }
   ],
   "source": [
    "loan['collections_12_mths_ex_med'].value_counts()"
   ]
  },
  {
   "cell_type": "code",
   "execution_count": 60,
   "metadata": {},
   "outputs": [],
   "source": [
    "loan = loan.drop('collections_12_mths_ex_med',axis=1)"
   ]
  },
  {
   "cell_type": "code",
   "execution_count": 61,
   "metadata": {},
   "outputs": [
    {
     "data": {
      "text/plain": [
       "1.0    42535\n",
       "Name: policy_code, dtype: int64"
      ]
     },
     "execution_count": 61,
     "metadata": {},
     "output_type": "execute_result"
    }
   ],
   "source": [
    "loan['policy_code'].value_counts()"
   ]
  },
  {
   "cell_type": "code",
   "execution_count": 62,
   "metadata": {},
   "outputs": [],
   "source": [
    "loan = loan.drop('policy_code',axis=1)"
   ]
  },
  {
   "cell_type": "code",
   "execution_count": 63,
   "metadata": {},
   "outputs": [
    {
     "data": {
      "text/plain": [
       "Individual    42535\n",
       "Name: application_type, dtype: int64"
      ]
     },
     "execution_count": 63,
     "metadata": {},
     "output_type": "execute_result"
    }
   ],
   "source": [
    "loan['application_type'].value_counts()"
   ]
  },
  {
   "cell_type": "code",
   "execution_count": 64,
   "metadata": {},
   "outputs": [],
   "source": [
    "loan = loan.drop('application_type',axis=1)"
   ]
  },
  {
   "cell_type": "code",
   "execution_count": 65,
   "metadata": {},
   "outputs": [
    {
     "data": {
      "text/plain": [
       "0.0       42504\n",
       "6053.0        1\n",
       "27.0          1\n",
       "Name: delinq_amnt, dtype: int64"
      ]
     },
     "execution_count": 65,
     "metadata": {},
     "output_type": "execute_result"
    }
   ],
   "source": [
    "loan['delinq_amnt'].value_counts()"
   ]
  },
  {
   "cell_type": "code",
   "execution_count": 66,
   "metadata": {},
   "outputs": [],
   "source": [
    "# 'delinq_amnt' has only two values differ else all rows have a value 0.0\n",
    "\n",
    "loan = loan.drop('delinq_amnt',axis=1)"
   ]
  },
  {
   "cell_type": "code",
   "execution_count": 67,
   "metadata": {},
   "outputs": [
    {
     "data": {
      "text/plain": [
       "0.0    39316\n",
       "1.0     1846\n",
       "2.0        8\n",
       "Name: pub_rec_bankruptcies, dtype: int64"
      ]
     },
     "execution_count": 67,
     "metadata": {},
     "output_type": "execute_result"
    }
   ],
   "source": [
    "loan['pub_rec_bankruptcies'].value_counts()"
   ]
  },
  {
   "cell_type": "code",
   "execution_count": 68,
   "metadata": {},
   "outputs": [],
   "source": [
    "loan['pub_rec_bankruptcies'] = loan['pub_rec_bankruptcies'].fillna(0.0)"
   ]
  },
  {
   "cell_type": "code",
   "execution_count": 69,
   "metadata": {},
   "outputs": [
    {
     "data": {
      "text/plain": [
       "0.0    42429\n",
       "1.0        1\n",
       "Name: tax_liens, dtype: int64"
      ]
     },
     "execution_count": 69,
     "metadata": {},
     "output_type": "execute_result"
    }
   ],
   "source": [
    "loan['tax_liens'].value_counts()"
   ]
  },
  {
   "cell_type": "code",
   "execution_count": 70,
   "metadata": {},
   "outputs": [],
   "source": [
    "loan = loan.drop('tax_liens',axis=1)"
   ]
  },
  {
   "cell_type": "code",
   "execution_count": 71,
   "metadata": {},
   "outputs": [
    {
     "data": {
      "text/plain": [
       "N    42535\n",
       "Name: hardship_flag, dtype: int64"
      ]
     },
     "execution_count": 71,
     "metadata": {},
     "output_type": "execute_result"
    }
   ],
   "source": [
    "loan['hardship_flag'].value_counts()"
   ]
  },
  {
   "cell_type": "code",
   "execution_count": 72,
   "metadata": {},
   "outputs": [],
   "source": [
    "loan = loan.drop('hardship_flag',axis=1)"
   ]
  },
  {
   "cell_type": "code",
   "execution_count": 73,
   "metadata": {},
   "outputs": [
    {
     "data": {
      "text/plain": [
       "Cash    42535\n",
       "Name: disbursement_method, dtype: int64"
      ]
     },
     "execution_count": 73,
     "metadata": {},
     "output_type": "execute_result"
    }
   ],
   "source": [
    "loan['disbursement_method'].value_counts()"
   ]
  },
  {
   "cell_type": "code",
   "execution_count": 74,
   "metadata": {},
   "outputs": [],
   "source": [
    "loan = loan.drop('disbursement_method',axis=1)"
   ]
  },
  {
   "cell_type": "code",
   "execution_count": 75,
   "metadata": {},
   "outputs": [
    {
     "data": {
      "text/plain": [
       "N    42375\n",
       "Y      160\n",
       "Name: debt_settlement_flag, dtype: int64"
      ]
     },
     "execution_count": 75,
     "metadata": {},
     "output_type": "execute_result"
    }
   ],
   "source": [
    "loan['debt_settlement_flag'].value_counts()"
   ]
  },
  {
   "cell_type": "code",
   "execution_count": 76,
   "metadata": {},
   "outputs": [],
   "source": [
    "debt_map = {'N':0,'Y':1}\n",
    "\n",
    "loan['debt_settlement_flag'] = loan['debt_settlement_flag'].map(debt_map)"
   ]
  },
  {
   "cell_type": "code",
   "execution_count": 77,
   "metadata": {},
   "outputs": [
    {
     "data": {
      "text/plain": [
       "Fully Paid     36104\n",
       "Charged Off     6431\n",
       "Name: loan_status, dtype: int64"
      ]
     },
     "execution_count": 77,
     "metadata": {},
     "output_type": "execute_result"
    }
   ],
   "source": [
    "loan['loan_status'] = loan['loan_status'].apply(lambda x : x.split(':')[1] if ':' in x else x)\n",
    "loan['loan_status'].value_counts()"
   ]
  },
  {
   "cell_type": "code",
   "execution_count": 78,
   "metadata": {},
   "outputs": [],
   "source": [
    "status_map = {'Fully Paid':0,'Charged Off':1}\n",
    "\n",
    "loan['loan_status'] = loan['loan_status'].map(status_map)"
   ]
  },
  {
   "cell_type": "code",
   "execution_count": 79,
   "metadata": {},
   "outputs": [],
   "source": [
    "loan = loan.drop('desc',axis=1)"
   ]
  },
  {
   "cell_type": "code",
   "execution_count": 80,
   "metadata": {},
   "outputs": [
    {
     "data": {
      "text/plain": [
       "0.0    42390\n",
       "Name: chargeoff_within_12_mths, dtype: int64"
      ]
     },
     "execution_count": 80,
     "metadata": {},
     "output_type": "execute_result"
    }
   ],
   "source": [
    "loan['chargeoff_within_12_mths'].value_counts()"
   ]
  },
  {
   "cell_type": "code",
   "execution_count": 81,
   "metadata": {},
   "outputs": [],
   "source": [
    "loan = loan.drop('chargeoff_within_12_mths',axis=1)"
   ]
  },
  {
   "cell_type": "code",
   "execution_count": 82,
   "metadata": {},
   "outputs": [
    {
     "data": {
      "text/plain": [
       "US Army              139\n",
       "Bank of America      115\n",
       "IBM                   72\n",
       "Kaiser Permanente     61\n",
       "AT&T                  61\n",
       "UPS                   58\n",
       "Wells Fargo           57\n",
       "USAF                  56\n",
       "US Air Force          55\n",
       "Self Employed         49\n",
       "Name: emp_title, dtype: int64"
      ]
     },
     "execution_count": 82,
     "metadata": {},
     "output_type": "execute_result"
    }
   ],
   "source": [
    "# Here are the top 10 employments of the account holders.\n",
    "loan['emp_title'].value_counts().nlargest(10)"
   ]
  },
  {
   "cell_type": "markdown",
   "metadata": {},
   "source": [
    " ### Corelation between features using Heatmap"
   ]
  },
  {
   "cell_type": "code",
   "execution_count": 84,
   "metadata": {},
   "outputs": [
    {
     "data": {
      "text/plain": [
       "<matplotlib.axes._subplots.AxesSubplot at 0xc7ba10aba8>"
      ]
     },
     "execution_count": 84,
     "metadata": {},
     "output_type": "execute_result"
    },
    {
     "data": {
      "image/png": "[encoded data removed]",
      "text/plain": [
       "<Figure size 1080x720 with 2 Axes>"
      ]
     },
     "metadata": {},
     "output_type": "display_data"
    }
   ],
   "source": [
    "plt.figure(figsize=(15,10))\n",
    "sns.heatmap(loan.corr())"
   ]
  },
  {
   "cell_type": "markdown",
   "metadata": {},
   "source": [
    "Looking at Heatmap, we can see the corelation between each features.\n",
    "If we look for the feature 'int_rate', very few features have positive corelation with it. But we can't see any stronger corelation  for 'int_rate' which are more near to 1."
   ]
  },
  {
   "cell_type": "code",
   "execution_count": 85,
   "metadata": {},
   "outputs": [
    {
     "data": {
      "text/plain": [
       "(42535, 42)"
      ]
     },
     "execution_count": 85,
     "metadata": {},
     "output_type": "execute_result"
    }
   ],
   "source": [
    "loan.shape"
   ]
  },
  {
   "cell_type": "markdown",
   "metadata": {},
   "source": [
    "Initially, the data had 42538 rows and 145 columns. After processing and cleaning, I was able to reduce this dimension to 42535 rows and 42 columns."
   ]
  }
 ],
 "metadata": {
  "kernelspec": {
   "display_name": "Python 3",
   "language": "python",
   "name": "python3"
  },
  "language_info": {
   "codemirror_mode": {
    "name": "ipython",
    "version": 3
   },
   "file_extension": ".py",
   "mimetype": "text/x-python",
   "name": "python",
   "nbconvert_exporter": "python",
   "pygments_lexer": "ipython3",
   "version": "3.6.5"
  }
 },
 "nbformat": 4,
 "nbformat_minor": 2
}
